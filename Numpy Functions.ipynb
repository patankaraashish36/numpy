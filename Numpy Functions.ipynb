{
 "cells": [
  {
   "cell_type": "code",
   "execution_count": 1,
   "id": "e142d529",
   "metadata": {},
   "outputs": [],
   "source": [
    "import numpy as np"
   ]
  },
  {
   "cell_type": "code",
   "execution_count": 2,
   "id": "85b2d385",
   "metadata": {},
   "outputs": [
    {
     "name": "stdout",
     "output_type": "stream",
     "text": [
      "[[1 2 3]\n",
      " [4 5 6]]\n"
     ]
    },
    {
     "data": {
      "text/plain": [
       "2"
      ]
     },
     "execution_count": 2,
     "metadata": {},
     "output_type": "execute_result"
    }
   ],
   "source": [
    "a=np.array([(1,2,3),(4,5,6)])\n",
    "print(a)\n",
    "a.ndim"
   ]
  },
  {
   "cell_type": "code",
   "execution_count": 3,
   "id": "ac463107",
   "metadata": {},
   "outputs": [
    {
     "name": "stdout",
     "output_type": "stream",
     "text": [
      "[0.         0.45454545 0.90909091 1.36363636 1.81818182 2.27272727\n",
      " 2.72727273 3.18181818 3.63636364 4.09090909 4.54545455 5.        ]\n"
     ]
    }
   ],
   "source": [
    "b=np.linspace(0,5,12)\n",
    "print(b)"
   ]
  },
  {
   "cell_type": "code",
   "execution_count": 4,
   "id": "9d774ff2",
   "metadata": {},
   "outputs": [
    {
     "name": "stdout",
     "output_type": "stream",
     "text": [
      "[5 7 9]\n",
      "[[1 2 3]\n",
      " [4 5 6]]\n"
     ]
    }
   ],
   "source": [
    "print(a.sum(axis = 0))\n",
    "print(a)"
   ]
  },
  {
   "cell_type": "code",
   "execution_count": 5,
   "id": "b5cd04ca",
   "metadata": {},
   "outputs": [
    {
     "name": "stdout",
     "output_type": "stream",
     "text": [
      "[[1.         1.41421356 1.73205081]\n",
      " [2.         2.23606798 2.44948974]]\n"
     ]
    }
   ],
   "source": [
    "# squre root and std daviation\n",
    "print(np.sqrt(a))"
   ]
  },
  {
   "cell_type": "code",
   "execution_count": 6,
   "id": "e3a92910",
   "metadata": {},
   "outputs": [
    {
     "name": "stdout",
     "output_type": "stream",
     "text": [
      "1.707825127659933\n"
     ]
    }
   ],
   "source": [
    "print(np.std(a))"
   ]
  },
  {
   "cell_type": "code",
   "execution_count": 7,
   "id": "5aa26813",
   "metadata": {},
   "outputs": [
    {
     "data": {
      "text/plain": [
       "array([1, 2, 3, 4, 5, 6])"
      ]
     },
     "execution_count": 7,
     "metadata": {},
     "output_type": "execute_result"
    }
   ],
   "source": [
    "np.ravel(a)"
   ]
  },
  {
   "cell_type": "code",
   "execution_count": 10,
   "id": "0fc0077d",
   "metadata": {},
   "outputs": [
    {
     "name": "stdout",
     "output_type": "stream",
     "text": [
      "[[0.         0.30103    0.47712125]\n",
      " [0.60205999 0.69897    0.77815125]]\n",
      "[[0.         1.         1.5849625 ]\n",
      " [2.         2.32192809 2.5849625 ]]\n"
     ]
    }
   ],
   "source": [
    "print(np.log10(a))\n",
    "print(np.log2(a))"
   ]
  },
  {
   "cell_type": "markdown",
   "id": "4cbc2011",
   "metadata": {},
   "source": [
    " # Numpy Practice Example\n"
   ]
  },
  {
   "cell_type": "code",
   "execution_count": 9,
   "id": "b3c76478",
   "metadata": {},
   "outputs": [],
   "source": [
    "import numpy as np\n",
    "from matplotlib import pyplot as pt"
   ]
  },
  {
   "cell_type": "code",
   "execution_count": 22,
   "id": "7b270174",
   "metadata": {},
   "outputs": [
    {
     "name": "stdout",
     "output_type": "stream",
     "text": [
      "[[ 3  2  5  5]\n",
      " [ 6  8  4  5]\n",
      " [ 9  2 87  4]\n",
      " [ 1  0 54  3]]\n",
      "==========================================\n",
      "[[ 1  0  4  3]\n",
      " [ 3  2  5  4]\n",
      " [ 6  2 54  5]\n",
      " [ 9  8 87  5]]\n",
      "==========================================\n",
      "[[ 2  3  5  5]\n",
      " [ 4  5  6  8]\n",
      " [ 2  4  9 87]\n",
      " [ 0  1  3 54]]\n"
     ]
    }
   ],
   "source": [
    "a=np.array([[3,2,5,5],[6,8,4,5],[9,2,87,4],[1,0,54,3]])\n",
    "print(a)\n",
    "print('==========================================')\n",
    "print(np.sort(a,axis=0))\n",
    "print('==========================================')\n",
    "\n",
    "print(np.sort(a,axis=1))\n"
   ]
  },
  {
   "cell_type": "code",
   "execution_count": 41,
   "id": "35184dfa",
   "metadata": {},
   "outputs": [
    {
     "name": "stdout",
     "output_type": "stream",
     "text": [
      "2\n",
      "[0 1 2 3 4 5 6 7 8 0 1 2 3 4 5 6 7 8]\n",
      "============================\n",
      "[[0 1 2 0 1 2]\n",
      " [3 4 5 3 4 5]\n",
      " [6 7 8 6 7 8]]\n",
      "============================\n",
      "[0 1 2 3 4 5 6 7 8]\n"
     ]
    }
   ],
   "source": [
    "a=np.arange(9).reshape(3,3)\n",
    "b=np.arange(9).reshape(3,3)\n",
    "print(a.ndim)\n",
    "print(np.append(a,b))\n",
    "print('============================')\n",
    "print(np.concatenate((a,b),axis=1))\n",
    "print('============================')\n",
    "\n",
    "print(np.reshape(a,newshape=(9),order='C'))\n"
   ]
  },
  {
   "cell_type": "markdown",
   "id": "b99d682d",
   "metadata": {},
   "source": [
    "# converting 1D array to 2D array (Add a new axis in the array)"
   ]
  },
  {
   "cell_type": "code",
   "execution_count": 61,
   "id": "78cc3327",
   "metadata": {},
   "outputs": [
    {
     "name": "stdout",
     "output_type": "stream",
     "text": [
      "[0 1 2 3 4 5]\n",
      "(6,) 1\n",
      "[[0 1 2 3 4 5]]\n",
      "(1, 6) 2\n",
      "[[[0 1 2 3 4 5]]]\n",
      "(1, 1, 6) 3\n"
     ]
    }
   ],
   "source": [
    "a=np.arange(6) # 1D\n",
    "print(a)\n",
    "print(a.shape,a.ndim)\n",
    "b=a[np.newaxis,:]\n",
    "print(b)\n",
    "print(b.shape,b.ndim)\n",
    "c=b[:,np.newaxis]\n",
    "print(c)\n",
    "print(c.shape,c.ndim)"
   ]
  },
  {
   "cell_type": "code",
   "execution_count": 67,
   "id": "3c88dc69",
   "metadata": {},
   "outputs": [
    {
     "name": "stdout",
     "output_type": "stream",
     "text": [
      "[[0 1 2 3 4 5]] 2 (1, 6)\n"
     ]
    }
   ],
   "source": [
    "a=np.arange(6)\n",
    "b=np.expand_dims(a,axis=0)\n",
    "print(b,b.ndim,b.shape)"
   ]
  }
 ],
 "metadata": {
  "kernelspec": {
   "display_name": "Python 3 (ipykernel)",
   "language": "python",
   "name": "python3"
  },
  "language_info": {
   "codemirror_mode": {
    "name": "ipython",
    "version": 3
   },
   "file_extension": ".py",
   "mimetype": "text/x-python",
   "name": "python",
   "nbconvert_exporter": "python",
   "pygments_lexer": "ipython3",
   "version": "3.11.1"
  }
 },
 "nbformat": 4,
 "nbformat_minor": 5
}
