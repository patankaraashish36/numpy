{
 "cells": [
  {
   "cell_type": "code",
   "execution_count": 50,
   "id": "c8f3ceab",
   "metadata": {},
   "outputs": [],
   "source": [
    "import numpy as np\n",
    "from matplotlib import pyplot as plt"
   ]
  },
  {
   "cell_type": "code",
   "execution_count": 2,
   "id": "5de228a1",
   "metadata": {},
   "outputs": [],
   "source": [
    "#1. Write a Numpy program to get the Numpy version and show the Numpy build configuration."
   ]
  },
  {
   "cell_type": "code",
   "execution_count": 3,
   "id": "4c66e810",
   "metadata": {},
   "outputs": [
    {
     "name": "stdout",
     "output_type": "stream",
     "text": [
      "1.26.0\n",
      "Build Dependencies:\n",
      "  blas:\n",
      "    detection method: pkgconfig\n",
      "    found: true\n",
      "    include directory: /c/opt/64/include\n",
      "    lib directory: /c/opt/64/lib\n",
      "    name: openblas64\n",
      "    openblas configuration: USE_64BITINT=1 DYNAMIC_ARCH=1 DYNAMIC_OLDER= NO_CBLAS=\n",
      "      NO_LAPACK= NO_LAPACKE= NO_AFFINITY=1 USE_OPENMP= SKYLAKEX MAX_THREADS=2\n",
      "    pc file directory: C:/opt/64/lib/pkgconfig\n",
      "    version: 0.3.23.dev\n",
      "  lapack:\n",
      "    detection method: pkgconfig\n",
      "    found: true\n",
      "    include directory: /c/opt/64/include\n",
      "    lib directory: /c/opt/64/lib\n",
      "    name: openblas64\n",
      "    openblas configuration: USE_64BITINT=1 DYNAMIC_ARCH=1 DYNAMIC_OLDER= NO_CBLAS=\n",
      "      NO_LAPACK= NO_LAPACKE= NO_AFFINITY=1 USE_OPENMP= SKYLAKEX MAX_THREADS=2\n",
      "    pc file directory: C:/opt/64/lib/pkgconfig\n",
      "    version: 0.3.23.dev\n",
      "Compilers:\n",
      "  c:\n",
      "    commands: cl\n",
      "    linker: link\n",
      "    name: msvc\n",
      "    version: 19.29.30152\n",
      "  c++:\n",
      "    commands: cl\n",
      "    linker: link\n",
      "    name: msvc\n",
      "    version: 19.29.30152\n",
      "  cython:\n",
      "    commands: cython\n",
      "    linker: cython\n",
      "    name: cython\n",
      "    version: 3.0.2\n",
      "Machine Information:\n",
      "  build:\n",
      "    cpu: x86_64\n",
      "    endian: little\n",
      "    family: x86_64\n",
      "    system: windows\n",
      "  host:\n",
      "    cpu: x86_64\n",
      "    endian: little\n",
      "    family: x86_64\n",
      "    system: windows\n",
      "Python Information:\n",
      "  path: C:\\Users\\runneradmin\\AppData\\Local\\Temp\\cibw-run-1xawrzqm\\cp311-win_amd64\\build\\venv\\Scripts\\python.exe\n",
      "  version: '3.11'\n",
      "SIMD Extensions:\n",
      "  baseline:\n",
      "  - SSE\n",
      "  - SSE2\n",
      "  - SSE3\n",
      "  found:\n",
      "  - SSSE3\n",
      "  - SSE41\n",
      "  - POPCNT\n",
      "  - SSE42\n",
      "  - AVX\n",
      "  - F16C\n",
      "  - FMA3\n",
      "  - AVX2\n",
      "  - AVX512F\n",
      "  - AVX512CD\n",
      "  - AVX512_SKX\n",
      "  - AVX512_CLX\n",
      "  - AVX512_CNL\n",
      "  - AVX512_ICL\n",
      "\n",
      "None\n"
     ]
    }
   ],
   "source": [
    "print(np.__version__)\n",
    "print(np.show_config())"
   ]
  },
  {
   "cell_type": "code",
   "execution_count": 4,
   "id": "f1a4234f",
   "metadata": {},
   "outputs": [],
   "source": [
    "# 2. Write a NumPy program to get help with the add function."
   ]
  },
  {
   "cell_type": "code",
   "execution_count": 5,
   "id": "db0a993f",
   "metadata": {},
   "outputs": [
    {
     "name": "stdout",
     "output_type": "stream",
     "text": [
      "[[ 0  1  2  3]\n",
      " [ 4  5  6  7]\n",
      " [ 8  9 10 11]]\n",
      "[[ 0  1  2  3]\n",
      " [ 4  5  6  7]\n",
      " [ 8  9 10 11]] 2\n"
     ]
    }
   ],
   "source": [
    "a=np.arange(12).reshape(3,4)\n",
    "b=np.arange(12).reshape(3,4)\n",
    "print(a)\n",
    "print(b,b.ndim)"
   ]
  },
  {
   "cell_type": "code",
   "execution_count": 6,
   "id": "afedd73c",
   "metadata": {},
   "outputs": [
    {
     "name": "stdout",
     "output_type": "stream",
     "text": [
      "[[ 0  2  4  6]\n",
      " [ 8 10 12 14]\n",
      " [16 18 20 22]]\n"
     ]
    },
    {
     "data": {
      "text/plain": [
       "array([[ 0,  2,  4,  6],\n",
       "       [ 8, 10, 12, 14],\n",
       "       [16, 18, 20, 22]])"
      ]
     },
     "execution_count": 6,
     "metadata": {},
     "output_type": "execute_result"
    }
   ],
   "source": [
    "print(a+b)\n",
    "c=np.add(a,b)\n",
    "c"
   ]
  },
  {
   "cell_type": "code",
   "execution_count": 7,
   "id": "065c902b",
   "metadata": {},
   "outputs": [],
   "source": [
    " # The np.info() function provides detailed information about a given NumPy function or class, including a description, input parameters, return values, and examples of usage."
   ]
  },
  {
   "cell_type": "code",
   "execution_count": 8,
   "id": "f155c55e",
   "metadata": {},
   "outputs": [
    {
     "name": "stdout",
     "output_type": "stream",
     "text": [
      "add(x1, x2, /, out=None, *, where=True, casting='same_kind', order='K', dtype=None, subok=True[, signature, extobj])\n",
      "\n",
      "Add arguments element-wise.\n",
      "\n",
      "Parameters\n",
      "----------\n",
      "x1, x2 : array_like\n",
      "    The arrays to be added.\n",
      "    If ``x1.shape != x2.shape``, they must be broadcastable to a common\n",
      "    shape (which becomes the shape of the output).\n",
      "out : ndarray, None, or tuple of ndarray and None, optional\n",
      "    A location into which the result is stored. If provided, it must have\n",
      "    a shape that the inputs broadcast to. If not provided or None,\n",
      "    a freshly-allocated array is returned. A tuple (possible only as a\n",
      "    keyword argument) must have length equal to the number of outputs.\n",
      "where : array_like, optional\n",
      "    This condition is broadcast over the input. At locations where the\n",
      "    condition is True, the `out` array will be set to the ufunc result.\n",
      "    Elsewhere, the `out` array will retain its original value.\n",
      "    Note that if an uninitialized `out` array is created via the default\n",
      "    ``out=None``, locations within it where the condition is False will\n",
      "    remain uninitialized.\n",
      "**kwargs\n",
      "    For other keyword-only arguments, see the\n",
      "    :ref:`ufunc docs <ufuncs.kwargs>`.\n",
      "\n",
      "Returns\n",
      "-------\n",
      "add : ndarray or scalar\n",
      "    The sum of `x1` and `x2`, element-wise.\n",
      "    This is a scalar if both `x1` and `x2` are scalars.\n",
      "\n",
      "Notes\n",
      "-----\n",
      "Equivalent to `x1` + `x2` in terms of array broadcasting.\n",
      "\n",
      "Examples\n",
      "--------\n",
      ">>> np.add(1.0, 4.0)\n",
      "5.0\n",
      ">>> x1 = np.arange(9.0).reshape((3, 3))\n",
      ">>> x2 = np.arange(3.0)\n",
      ">>> np.add(x1, x2)\n",
      "array([[  0.,   2.,   4.],\n",
      "       [  3.,   5.,   7.],\n",
      "       [  6.,   8.,  10.]])\n",
      "\n",
      "The ``+`` operator can be used as a shorthand for ``np.add`` on ndarrays.\n",
      "\n",
      ">>> x1 = np.arange(9.0).reshape((3, 3))\n",
      ">>> x2 = np.arange(3.0)\n",
      ">>> x1 + x2\n",
      "array([[ 0.,  2.,  4.],\n",
      "       [ 3.,  5.,  7.],\n",
      "       [ 6.,  8., 10.]])\n",
      "None\n"
     ]
    }
   ],
   "source": [
    "print(np.info(np.add))"
   ]
  },
  {
   "cell_type": "code",
   "execution_count": 9,
   "id": "d68624a5",
   "metadata": {},
   "outputs": [
    {
     "name": "stdout",
     "output_type": "stream",
     "text": [
      "0\n"
     ]
    }
   ],
   "source": [
    "print(np.isnan(a).sum())  # check the nan is present or not"
   ]
  },
  {
   "cell_type": "code",
   "execution_count": 10,
   "id": "59333e8c",
   "metadata": {},
   "outputs": [
    {
     "name": "stdout",
     "output_type": "stream",
     "text": [
      "False\n"
     ]
    },
    {
     "data": {
      "text/plain": [
       "array([[ 0,  1,  2,  3],\n",
       "       [ 4,  5,  6,  7],\n",
       "       [ 8,  9, 10, 11]])"
      ]
     },
     "execution_count": 10,
     "metadata": {},
     "output_type": "execute_result"
    }
   ],
   "source": [
    "# 3. Write a NumPy program to test whether none of the elements of a given array are zero. \n",
    "print(np.all(a))  # all() function is use to check 0 is present or not in the array if zero is present return False if not present return True\n",
    "a"
   ]
  },
  {
   "cell_type": "code",
   "execution_count": 11,
   "id": "7ee3cb44",
   "metadata": {},
   "outputs": [
    {
     "name": "stdout",
     "output_type": "stream",
     "text": [
      "Original array:\n",
      "[1 2 3 4]\n",
      "Test if none of the elements of the said array is zero:\n",
      "True\n",
      "Original array:\n",
      "[0 1 2 3]\n",
      "Test if none of the elements of the said array is zero:\n",
      "False\n"
     ]
    }
   ],
   "source": [
    "x = np.array([1, 2, 3, 4])\n",
    "print(\"Original array:\")\n",
    "print(x)\n",
    "print(\"Test if none of the elements of the said array is zero:\")\n",
    "print(np.all(x))\n",
    "x = np.array([0, 1, 2, 3])\n",
    "print(\"Original array:\")\n",
    "print(x)\n",
    "print(\"Test if none of the elements of the said array is zero:\")\n",
    "print(np.all(x))"
   ]
  },
  {
   "cell_type": "code",
   "execution_count": 12,
   "id": "4b4c522e",
   "metadata": {},
   "outputs": [
    {
     "name": "stdout",
     "output_type": "stream",
     "text": [
      "True\n",
      "[[ 0  1  2  3]\n",
      " [ 4  5  6  7]\n",
      " [ 8  9 10 11]]\n"
     ]
    }
   ],
   "source": [
    "print(np.any(a==5))\n",
    "print(a)     # The numpy.any() function to check if any element in the array equals elements if present Return True."
   ]
  },
  {
   "cell_type": "code",
   "execution_count": 13,
   "id": "4859e475",
   "metadata": {},
   "outputs": [
    {
     "name": "stdout",
     "output_type": "stream",
     "text": [
      "True\n"
     ]
    }
   ],
   "source": [
    "#  4. Write a NumPy program to test if any of the elements of a given array are non-zero. \n",
    "print(np.any(a))   # Anather use of any() funtion is if non- zero is present in the array return True "
   ]
  },
  {
   "cell_type": "code",
   "execution_count": 14,
   "id": "cbd54a03",
   "metadata": {},
   "outputs": [
    {
     "name": "stdout",
     "output_type": "stream",
     "text": [
      "False\n",
      "True\n"
     ]
    }
   ],
   "source": [
    "d=np.array([0,0,0,0,0,0])\n",
    "print(np.any(d))\n",
    "z=np.array([0,0,0,0,0,1])\n",
    "print (np.any(z))"
   ]
  },
  {
   "cell_type": "code",
   "execution_count": 15,
   "id": "86fa68ee",
   "metadata": {},
   "outputs": [
    {
     "name": "stdout",
     "output_type": "stream",
     "text": [
      "[ 1.  0. nan inf]\n",
      "[ True  True False False]\n",
      "[False False False  True]\n"
     ]
    }
   ],
   "source": [
    "# 5. Write a NumPy program to test a given array element-wise for finiteness (not infinity or not a number)\n",
    "e= np.array([1, 0, np.nan, np.inf]) # np.inf is use to represent the infinite number and np.nan use to represent the nan valuen\n",
    "# np.inf=0\n",
    "print(e)\n",
    "# print(np.info(np.inf))\n",
    "print(np.isfinite(e))   # Use to check number is finite or not\n",
    "print(np.isinf(e))      # Use to check number is infinite or not"
   ]
  },
  {
   "cell_type": "code",
   "execution_count": 16,
   "id": "69d23f48",
   "metadata": {},
   "outputs": [
    {
     "name": "stdout",
     "output_type": "stream",
     "text": [
      "[False False False  True  True]\n"
     ]
    }
   ],
   "source": [
    "#  6. Write a NumPy program to test elements-wise for positive or negative infinity. \n",
    "f=np.array([1, 0, np.nan, np.inf,-np.inf])\n",
    "print(np.isinf(f))"
   ]
  },
  {
   "cell_type": "code",
   "execution_count": 17,
   "id": "71f82196",
   "metadata": {},
   "outputs": [
    {
     "name": "stdout",
     "output_type": "stream",
     "text": [
      "[False False False  True False]\n",
      "[False False False False  True]\n"
     ]
    }
   ],
   "source": [
    "print(np.isposinf(f))\n",
    "print(np.isneginf(f))"
   ]
  },
  {
   "cell_type": "code",
   "execution_count": 18,
   "id": "3b0de667",
   "metadata": {},
   "outputs": [
    {
     "name": "stdout",
     "output_type": "stream",
     "text": [
      "[False False  True False]\n"
     ]
    }
   ],
   "source": [
    " # 7. Write a NumPy program to test element-wise for NaN of a given array.\n",
    "print(np.isnan(e))"
   ]
  },
  {
   "cell_type": "code",
   "execution_count": 19,
   "id": "02717dc7",
   "metadata": {},
   "outputs": [
    {
     "name": "stdout",
     "output_type": "stream",
     "text": [
      "[False False  True  True  True  True  True  True]\n",
      "[4. 7. 0. 0. 0. 0. 0. 0.]\n",
      "[3. 7. 4. 5. 2. 3. 4. 7.]\n",
      "[ True  True False False False False False False]\n",
      "True\n",
      "False\n",
      "[3.+4.j 7.+7.j 4.+0.j 5.+0.j 2.+0.j 3.+0.j 4.+0.j 7.+0.j]\n"
     ]
    }
   ],
   "source": [
    "# 8. Write a NumPy program to test element-wise for complex numbers, real numbers in a given array. Also test if a given number is of a scalar type or not. \n",
    "g=np.array([3+4j,7+7j,4,5,2,3,4,7])\n",
    "print(np.isreal(g))\n",
    "print(np.imag(g))\n",
    "print(np.real(g))\n",
    "print(np.iscomplex(g))\n",
    "print(np.isscalar(3.1))\n",
    "print(np.isscalar([3.1]))\n",
    "print(g)"
   ]
  },
  {
   "cell_type": "code",
   "execution_count": 20,
   "id": "44c44d3c",
   "metadata": {},
   "outputs": [
    {
     "name": "stdout",
     "output_type": "stream",
     "text": [
      "True\n",
      "False\n",
      "True\n"
     ]
    }
   ],
   "source": [
    "# 9. Write a NumPy program to test whether two arrays are element-wise equal within a tolerance.\n",
    "a=np.arange(5)\n",
    "b=np.arange(5)\n",
    "print(np.allclose(a,b))\n",
    "c=np.random.rand(5)\n",
    "d=np.random.rand(5)\n",
    "print(np.allclose(c,d))\n",
    "e=np.random.rand(5)*np.nan\n",
    "f=np.random.rand(5)*np.nan\n",
    "print(np.allclose(e,f,equal_nan=True))\n",
    "\n"
   ]
  },
  {
   "cell_type": "code",
   "execution_count": 21,
   "id": "770af4f0",
   "metadata": {},
   "outputs": [
    {
     "name": "stdout",
     "output_type": "stream",
     "text": [
      "a = [nan nan nan nan nan nan]\n",
      "a = [inf inf inf inf inf inf]\n",
      "b = [nan nan nan nan nan]\n",
      "C = [nan nan nan nan nan]\n",
      "d= [[inf inf]\n",
      " [inf inf]\n",
      " [inf inf]]\n"
     ]
    }
   ],
   "source": [
    "# 10 How to fill nan in the array\n",
    "a=np.arange(6)*np.nan\n",
    "b=np.random.rand(5)*np.nan\n",
    "c=np.random.rand(5)\n",
    "print(\"a =\",a)\n",
    "a.fill(np.inf)\n",
    "c.fill(np.nan)\n",
    "print(\"a =\",a)\n",
    "print(\"b =\",b)\n",
    "print(\"C =\",c)\n",
    "d=np.full((3,2),np.inf)\n",
    "print(\"d=\",d)\n",
    "\n"
   ]
  },
  {
   "cell_type": "code",
   "execution_count": 22,
   "id": "48c72b5a",
   "metadata": {},
   "outputs": [
    {
     "name": "stdout",
     "output_type": "stream",
     "text": [
      "[[7 5]\n",
      " [6 3]]\n",
      "_________________________\n",
      "[[4 5]\n",
      " [6 5]]\n",
      "_________________________\n",
      "greater :  [[ True False]\n",
      " [False False]]\n",
      "_________________________\n",
      "less :  [[False False]\n",
      " [False  True]]\n",
      "_________________________\n",
      "less_equal [[False  True]\n",
      " [ True  True]]\n",
      "_________________________\n",
      "greater_equal [[ True  True]\n",
      " [ True False]]\n"
     ]
    }
   ],
   "source": [
    "# 10. Write a NumPy program to create an element-wise comparison (greater, greater_equal, less and less_equal) of two given arrays\n",
    "a=np.array([[7,5],[6,3]])\n",
    "b=np.array([[4,5],[6,5]])\n",
    "print(a)\n",
    "print(\"_________________________\")\n",
    "print(b)\n",
    "print(\"_________________________\")\n",
    "print( \"greater : \",np.greater(a,b))\n",
    "print(\"_________________________\")\n",
    "print(\"less : \",np.less(a,b))\n",
    "print(\"_________________________\")\n",
    "print(\"less_equal\",np.less_equal(a,b))\n",
    "print(\"_________________________\")\n",
    "print(\"greater_equal\",np.greater_equal(a,b))"
   ]
  },
  {
   "cell_type": "code",
   "execution_count": 23,
   "id": "8403b86d",
   "metadata": {},
   "outputs": [
    {
     "name": "stdout",
     "output_type": "stream",
     "text": [
      "equal :  [ True  True  True  True  True  True  True  True  True False]\n",
      "equal within a tolerance :  True\n"
     ]
    }
   ],
   "source": [
    "# 11. Write a NumPy program to create an element-wise comparison (equal, equal within a tolerance) of two given arrays.\n",
    "x = np.array([72, 79, 85, 90, 150, -135, 120, -10, 60, 100])\n",
    "y = np.array([72, 79, 85, 90, 150, -135, 120, -10, 60, 100.000001])\n",
    "print(\"equal : \",np.equal(x,y))\n",
    "print(\"equal within a tolerance : \",np.allclose(x,y))"
   ]
  },
  {
   "cell_type": "code",
   "execution_count": 24,
   "id": "0eec12de",
   "metadata": {},
   "outputs": [
    {
     "name": "stdout",
     "output_type": "stream",
     "text": [
      "int32\n",
      "16\n"
     ]
    }
   ],
   "source": [
    "# 12. Write a NumPy program to create an array with the values 1, 7, 13, 105 and determine the size of the memory occupied by the array.\n",
    "a=np.array([1,7,13,105])\n",
    "print(a.dtype)\n",
    "print(a.size*a.itemsize)"
   ]
  },
  {
   "cell_type": "code",
   "execution_count": 25,
   "id": "23836952",
   "metadata": {},
   "outputs": [
    {
     "name": "stdout",
     "output_type": "stream",
     "text": [
      "An array of 10 zeros: [0 0 0 0 0 0 0 0 0 0]\n",
      "An array of 10 ones : [1. 1. 1. 1. 1. 1. 1. 1. 1. 1.]\n",
      "An array of 10 fives: [5 5 5 5 5 5 5 5 5 5]\n"
     ]
    }
   ],
   "source": [
    "# 13. Write a NumPy program to create an array of 10 zeros, 10 ones, and 10 fives. \n",
    "a=np.zeros(10)\n",
    "print(\"An array of 10 zeros:\",a.astype(int))\n",
    "b=np.ones(10)\n",
    "print(\"An array of 10 ones :\",b)\n",
    "print(\"An array of 10 fives:\",(b*5).astype(int))"
   ]
  },
  {
   "cell_type": "code",
   "execution_count": 26,
   "id": "3108a1a1",
   "metadata": {},
   "outputs": [
    {
     "name": "stdout",
     "output_type": "stream",
     "text": [
      "array =  [30 31 32 33 34 35 36 37 38 39 40 41 42 43 44 45 46 47 48 49 50 51 52 53\n",
      " 54 55 56 57 58 59 60 61 62 63 64 65 66 67 68 69 70]\n",
      "list =  [30, 31, 32, 33, 34, 35, 36, 37, 38, 39, 40, 41, 42, 43, 44, 45, 46, 47, 48, 49, 50, 51, 52, 53, 54, 55, 56, 57, 58, 59, 60, 61, 62, 63, 64, 65, 66, 67, 68, 69, 70]\n"
     ]
    }
   ],
   "source": [
    "# 14. Write a NumPy program to create an array of integers from 30 to 70.\n",
    "a=np.arange(30,71)\n",
    "print(\"array = \",a)\n",
    "print(\"list = \",list(a))"
   ]
  },
  {
   "cell_type": "code",
   "execution_count": 27,
   "id": "76142f89",
   "metadata": {},
   "outputs": [
    {
     "name": "stdout",
     "output_type": "stream",
     "text": [
      "Even number array :  [30 32 34 36 38 40 42 44 46 48 50 52 54 56 58 60 62 64 66 68 70]\n"
     ]
    }
   ],
   "source": [
    "# 15.Write a NumPy program to create an array of all even integers from 30 to 70.\n",
    "a=np.arange(30,71,2)\n",
    "print(\"Even number array : \",a)"
   ]
  },
  {
   "cell_type": "code",
   "execution_count": 28,
   "id": "b8851d44",
   "metadata": {},
   "outputs": [
    {
     "name": "stdout",
     "output_type": "stream",
     "text": [
      "identity matrix = [[1. 0. 0.]\n",
      " [0. 1. 0.]\n",
      " [0. 0. 1.]]\n"
     ]
    },
    {
     "data": {
      "text/plain": [
       "(3, 3)"
      ]
     },
     "execution_count": 28,
     "metadata": {},
     "output_type": "execute_result"
    }
   ],
   "source": [
    "# 16. Write a NumPy program to create a 3x3 identity matrix.\n",
    "a=np.identity(3)\n",
    "print(\"identity matrix =\",a)\n",
    "a.shape"
   ]
  },
  {
   "cell_type": "code",
   "execution_count": 29,
   "id": "251e19d3",
   "metadata": {},
   "outputs": [
    {
     "name": "stdout",
     "output_type": "stream",
     "text": [
      "[-2.00878212  0.32943573 -1.77496128]\n",
      "[-0.10502035]\n"
     ]
    }
   ],
   "source": [
    "# 17. Write a NumPy program to generate a random number between 0 and 1.\n",
    "a=np.random.normal(0,1,3)\n",
    "print(a)\n",
    "a=np.random.normal(0,1,1)\n",
    "print(a)"
   ]
  },
  {
   "cell_type": "code",
   "execution_count": 30,
   "id": "c19aa1bb",
   "metadata": {},
   "outputs": [
    {
     "name": "stdout",
     "output_type": "stream",
     "text": [
      "[-5.92113624 -2.56181007 -5.98228001 -2.04518544 -4.79386154  0.57749873\n",
      "  3.87918971  2.7833225  -5.75504436 -3.9858722  -2.357746    3.0094589\n",
      "  5.34183828  1.54434432  8.53274099]\n"
     ]
    }
   ],
   "source": [
    "# 18. Write a NumPy program to generate an array of 15 random numbers from a standard normal distribution.\n",
    "a=np.random.normal(0,5,15)\n",
    "print(a)"
   ]
  },
  {
   "cell_type": "code",
   "execution_count": 31,
   "id": "a0926cdd",
   "metadata": {},
   "outputs": [
    {
     "name": "stdout",
     "output_type": "stream",
     "text": [
      "[16 17 18 19 20 21 22 23 24 25 26 27 28 29 30 31 32 33 34 35 36 37 38 39\n",
      " 40 41 42 43 44 45 46 47 48 49 50 51 52 53]\n"
     ]
    }
   ],
   "source": [
    "# 19. Write a NumPy program to create a vector with values ranging from 15 to 55 and print all values except the first and last.\n",
    "a=np.arange(15,55)\n",
    "print(a[1:-1])"
   ]
  },
  {
   "cell_type": "code",
   "execution_count": 32,
   "id": "d5168488",
   "metadata": {},
   "outputs": [
    {
     "name": "stdout",
     "output_type": "stream",
     "text": [
      "[[ 0  1  2  3]\n",
      " [ 4  5  6  7]\n",
      " [ 8  9 10 11]]\n",
      "=====================================================================================================================\n",
      "0\n",
      "1\n",
      "2\n",
      "3\n",
      "4\n",
      "5\n",
      "6\n",
      "7\n",
      "8\n",
      "9\n",
      "10\n",
      "11\n",
      "=====================================================================================================================\n",
      "0\n",
      "1\n",
      "2\n",
      "3\n",
      "4\n",
      "5\n",
      "6\n",
      "7\n",
      "8\n",
      "9\n",
      "10\n",
      "11\n"
     ]
    }
   ],
   "source": [
    "# 20. Write a NumPy program to create a 3X4 array and iterate over it.\n",
    "a=np.arange(12).reshape(3,4)\n",
    "print(a)\n",
    "print('=====================================================================================================================')\n",
    "for i in a.flat:\n",
    "    print(i)\n",
    "print('=====================================================================================================================')\n",
    "for i in np.nditer(a):\n",
    "    print(i)"
   ]
  },
  {
   "cell_type": "code",
   "execution_count": 33,
   "id": "c10f8156",
   "metadata": {},
   "outputs": [
    {
     "name": "stdout",
     "output_type": "stream",
     "text": [
      "vector of length 10 with values evenly distributed between 5 and 50.:  [ 5 10 15 20 25 30 35 40 45 50]\n",
      "vector of length 10\n"
     ]
    }
   ],
   "source": [
    "# 21. Write a NumPy program to create a vector of length 10 with values evenly distributed between 5 and 50.\n",
    "a=np.arange(5,55,5)\n",
    "print(\"vector of length 10 with values evenly distributed between 5 and 50.: \",a)\n",
    "print(\"vector of length\",len(a))"
   ]
  },
  {
   "cell_type": "code",
   "execution_count": 34,
   "id": "5eec2923",
   "metadata": {},
   "outputs": [
    {
     "name": "stdout",
     "output_type": "stream",
     "text": [
      "Original Y : [ 0  1  2  3  4  5  6  7  8  9 10 11 12 13 14 15 16 17 18 19 20]\n",
      "[  0   1   2   3   4  -5  -6  -7  -8  -9 -10  11  12  13  14 -15 -16 -17\n",
      " -18 -19 -20]\n"
     ]
    }
   ],
   "source": [
    "# 22. Write a NumPy program to create a vector with values from 0 to 20 and change the sign of the numbers in the range from 9 to 15.\n",
    "y=np.arange(21)\n",
    "print(\"Original Y :\", y)\n",
    "y[(y >= 5) & (y<= 10)] *= -1   \n",
    "y[(y >= 15) & (y<= 20) ] *= -1       # x[(x >= 9) & (x<= 15)] *= -1  \n",
    "print(y)\n"
   ]
  },
  {
   "cell_type": "code",
   "execution_count": 35,
   "id": "86266d6a",
   "metadata": {},
   "outputs": [
    {
     "name": "stdout",
     "output_type": "stream",
     "text": [
      "[0 7 1 2 3]\n"
     ]
    }
   ],
   "source": [
    "# 23. Write a NumPy program to create a vector of length 5 filled with arbitrary integers from 0 to 10.\n",
    "a = np.random.randint(0,11,5)\n",
    "print(a)"
   ]
  },
  {
   "cell_type": "code",
   "execution_count": 36,
   "id": "9da0fd10",
   "metadata": {},
   "outputs": [
    {
     "name": "stdout",
     "output_type": "stream",
     "text": [
      "[  0   1   4   9  16  25  36  49  64  81 100 121]\n"
     ]
    }
   ],
   "source": [
    "# 24. Write a NumPy program to multiply the values of two given vectors.\n",
    "a=np.arange(12)\n",
    "a=np.arange(12)\n",
    "b=np.multiply(a,a)\n",
    "print(b)"
   ]
  },
  {
   "cell_type": "code",
   "execution_count": 37,
   "id": "7085007b",
   "metadata": {},
   "outputs": [
    {
     "name": "stdout",
     "output_type": "stream",
     "text": [
      "[[10 11 12 13]\n",
      " [14 15 16 17]\n",
      " [18 19 20 21]]\n",
      "(3, 4)\n"
     ]
    }
   ],
   "source": [
    "# 25. Write a NumPy program to create a 3x4 matrix filled with values from 10 to 21.\n",
    "a=np.arange(10,22).reshape(3,4)\n",
    "print(a)\n",
    "print(a.shape)"
   ]
  },
  {
   "cell_type": "code",
   "execution_count": 38,
   "id": "dfe14da0",
   "metadata": {},
   "outputs": [
    {
     "name": "stdout",
     "output_type": "stream",
     "text": [
      "[[10 11 12 13]\n",
      " [14 15 16 17]\n",
      " [18 19 20 21]]\n",
      " number of rows and columns in a given matrix =  (3, 4)\n"
     ]
    }
   ],
   "source": [
    "# 26. Write a NumPy program to find the number of rows and columns in a given matrix.\n",
    "a=np.arange(10,22).reshape(3,4)\n",
    "print(a)\n",
    "print(\" number of rows and columns in a given matrix = \",a.shape)"
   ]
  },
  {
   "cell_type": "code",
   "execution_count": 39,
   "id": "8831744d",
   "metadata": {},
   "outputs": [
    {
     "name": "stdout",
     "output_type": "stream",
     "text": [
      "[[0. 0. 0.]\n",
      " [0. 0. 0.]\n",
      " [0. 0. 0.]]\n",
      "(3, 3)\n",
      "[[1. 0. 0.]\n",
      " [0. 1. 0.]\n",
      " [0. 0. 1.]]\n"
     ]
    }
   ],
   "source": [
    "# 27. Write a NumPy program to create a 3x3 identity matrix, i.e. the diagonal elements are 1, the rest are 0.\n",
    "a=np.zeros((3,3))\n",
    "print(a)\n",
    "print(a.shape)\n",
    "a[0,0]=1\n",
    "a[1,1]=1\n",
    "a[2,2]=1\n",
    "print(a)"
   ]
  },
  {
   "cell_type": "code",
   "execution_count": 40,
   "id": "3d89f3f7",
   "metadata": {},
   "outputs": [
    {
     "name": "stdout",
     "output_type": "stream",
     "text": [
      "[[0. 0. 0. 0. 0. 0.]\n",
      " [0. 0. 0. 0. 0. 0.]\n",
      " [0. 0. 0. 0. 0. 0.]\n",
      " [0. 0. 0. 0. 0. 0.]\n",
      " [0. 0. 0. 0. 0. 0.]\n",
      " [0. 0. 0. 0. 0. 0.]]\n",
      "=====================================================================================================================\n",
      "=====================================================================================================================\n",
      "[[1. 0. 1. 0. 1. 0.]\n",
      " [0. 1. 0. 1. 0. 1.]\n",
      " [1. 0. 1. 0. 1. 0.]\n",
      " [0. 1. 0. 1. 0. 1.]\n",
      " [1. 0. 1. 0. 1. 0.]\n",
      " [0. 1. 0. 1. 0. 1.]]\n"
     ]
    }
   ],
   "source": [
    "a=np.zeros((6,6))\n",
    "print(a)\n",
    "print('=====================================================================================================================')\n",
    "print('=====================================================================================================================')\n",
    "a[::2,::2]=1\n",
    "a[1::2,1::2]=1\n",
    "print(a)"
   ]
  },
  {
   "cell_type": "code",
   "execution_count": 41,
   "id": "135e7cf9",
   "metadata": {},
   "outputs": [
    {
     "name": "stdout",
     "output_type": "stream",
     "text": [
      "[[0. 0. 0. 0. 0.]\n",
      " [0. 0. 0. 0. 0.]\n",
      " [0. 0. 0. 0. 0.]\n",
      " [0. 0. 0. 0. 0.]\n",
      " [0. 0. 0. 0. 0.]]\n",
      "=====================================================================================================================\n",
      "=====================================================================================================================\n",
      "[[1. 0. 0. 0. 1.]\n",
      " [0. 1. 0. 1. 0.]\n",
      " [0. 0. 1. 0. 0.]\n",
      " [0. 1. 0. 1. 0.]\n",
      " [1. 0. 0. 0. 1.]]\n"
     ]
    }
   ],
   "source": [
    "a=np.zeros((5,5))\n",
    "print(a)\n",
    "print('=====================================================================================================================')\n",
    "print('=====================================================================================================================')\n",
    "a[0::4,0::4]=1\n",
    "a[1::2,1::2]=1\n",
    "a[2,2]=1\n",
    "print(a)"
   ]
  },
  {
   "cell_type": "code",
   "execution_count": 42,
   "id": "3553c54f",
   "metadata": {},
   "outputs": [
    {
     "name": "stdout",
     "output_type": "stream",
     "text": [
      "[[1 1 1 1 1 1 1 1 1 1]\n",
      " [1 0 0 0 0 0 0 0 0 1]\n",
      " [1 0 0 0 0 0 0 0 0 1]\n",
      " [1 0 0 0 0 0 0 0 0 1]\n",
      " [1 0 0 0 0 0 0 0 0 1]\n",
      " [1 0 0 0 0 0 0 0 0 1]\n",
      " [1 0 0 0 0 0 0 0 0 1]\n",
      " [1 0 0 0 0 0 0 0 0 1]\n",
      " [1 0 0 0 0 0 0 0 0 1]\n",
      " [1 1 1 1 1 1 1 1 1 1]]\n"
     ]
    }
   ],
   "source": [
    "# . Write a NumPy program to create a 10x10 matrix, in which the elements on the borders will be equal to 1, and inside 0.\n",
    "a=np.zeros((10,10),np.dtype(int))\n",
    "a[0]=1\n",
    "a[:,0]=1\n",
    "a[9]=1\n",
    "a[:,9]=1\n",
    "print(a)\n"
   ]
  },
  {
   "cell_type": "code",
   "execution_count": 43,
   "id": "945c45cc",
   "metadata": {},
   "outputs": [
    {
     "name": "stdout",
     "output_type": "stream",
     "text": [
      "[[1. 0. 0. 0. 0.]\n",
      " [0. 2. 0. 0. 0.]\n",
      " [0. 0. 3. 0. 0.]\n",
      " [0. 0. 0. 4. 0.]\n",
      " [0. 0. 0. 0. 5.]]\n"
     ]
    }
   ],
   "source": [
    "# 29. Write a NumPy program to create a 5x5 zero matrix with elements on the main diagonal equal to 1, 2, 3, 4, 5.\n",
    "a=np.zeros((5,5))\n",
    "a[0,0]=1\n",
    "a[1,1]=2\n",
    "a[2,2]=3\n",
    "a[3,3]=4\n",
    "a[4,4]=5\n",
    "print(a)\n"
   ]
  },
  {
   "cell_type": "code",
   "execution_count": 44,
   "id": "f23437d2",
   "metadata": {},
   "outputs": [
    {
     "name": "stdout",
     "output_type": "stream",
     "text": [
      "[ 0  1  2  3  4  5  6  7  8  9 10 11  0  1  2  3  4  5  6  7  8  9 10 11]\n"
     ]
    },
    {
     "data": {
      "text/plain": [
       "array([2, 4, 4])"
      ]
     },
     "execution_count": 44,
     "metadata": {},
     "output_type": "execute_result"
    }
   ],
   "source": [
    "a=np.arange(12).reshape(3,4)\n",
    "b=np.arange(12).reshape(3,4)\n",
    "c=np.append(a,b)\n",
    "print(c)\n",
    "\n",
    "y=np.random.choice([1, 2, 3, 4, 5], 3) \n",
    "y"
   ]
  },
  {
   "cell_type": "code",
   "execution_count": 45,
   "id": "8362b480",
   "metadata": {},
   "outputs": [
    {
     "data": {
      "text/plain": [
       "array([[[0.57696892, 0.25106883, 0.9886823 ],\n",
       "        [0.19194958, 0.48898457, 0.61508583],\n",
       "        [0.55246586, 0.21637268, 0.68264244]],\n",
       "\n",
       "       [[0.72428611, 0.88486698, 0.69322198],\n",
       "        [0.35927449, 0.91044488, 0.78734606],\n",
       "        [0.41130243, 0.51923623, 0.40210101]],\n",
       "\n",
       "       [[0.99784428, 0.41460414, 0.23612396],\n",
       "        [0.86664307, 0.76485683, 0.29919234],\n",
       "        [0.99370302, 0.22715557, 0.02911645]]])"
      ]
     },
     "execution_count": 45,
     "metadata": {},
     "output_type": "execute_result"
    }
   ],
   "source": [
    "# 31. Write a NumPy program to create a 3x3x3 array filled with arbitrary values.\n",
    "\n",
    "a = np.random.random((3,3,3))\n",
    "a"
   ]
  },
  {
   "cell_type": "code",
   "execution_count": 46,
   "id": "1f048ca7",
   "metadata": {},
   "outputs": [
    {
     "name": "stdout",
     "output_type": "stream",
     "text": [
      "[[ 0  1  2  3]\n",
      " [ 4  5  6  7]\n",
      " [ 8  9 10 11]]\n",
      "Sum of all Element is : 66\n",
      "Sum of all row Element is : [12 15 18 21]\n",
      "Sum of all column Element is : [ 6 22 38]\n"
     ]
    }
   ],
   "source": [
    "# 32. Write a NumPy program to compute the sum of all elements, the sum of each column and the sum of each row in a given array.\n",
    "\n",
    "a=np.arange(12).reshape(3,4)\n",
    "print(a)\n",
    "print(\"Sum of all Element is :\", a.sum())\n",
    "print(\"Sum of all row Element is :\", a.sum(axis=0))\n",
    "print(\"Sum of all column Element is :\", a.sum(axis=1))"
   ]
  },
  {
   "cell_type": "code",
   "execution_count": 47,
   "id": "c9e14d83",
   "metadata": {},
   "outputs": [
    {
     "name": "stdout",
     "output_type": "stream",
     "text": [
      "13\n"
     ]
    }
   ],
   "source": [
    "# 33. Write a NumPy program to compute the inner product of two given vectors.\n",
    "a = np.array([1,2])\n",
    "b = np.array([3,5])\n",
    "print(np.dot(a,b))"
   ]
  },
  {
   "cell_type": "code",
   "execution_count": 48,
   "id": "e5772bf5",
   "metadata": {},
   "outputs": [
    {
     "name": "stdout",
     "output_type": "stream",
     "text": [
      "[[ 0  1  2  3]\n",
      " [ 4  5  6  7]\n",
      " [ 8  9 10 11]]\n",
      "[0 1 2 3]\n",
      "[[ 0  2  4  6]\n",
      " [ 4  6  8 10]\n",
      " [ 8 10 12 14]]\n",
      "a+b :  [[ 0  2  4  6]\n",
      " [ 4  6  8 10]\n",
      " [ 8 10 12 14]]\n",
      "<class 'tuple'> (3, 4)\n"
     ]
    }
   ],
   "source": [
    "# 34. Write a NumPy program to add a vector to each row of a given matrix.\n",
    "a = np.arange(12).reshape(3,4)\n",
    "b = np.arange(4)\n",
    "c = np.empty_like(a)\n",
    "\n",
    "print(a)\n",
    "print(b)\n",
    "for i in range(a.shape[0]):\n",
    "     c[i ,:] = a[i ,:] + b\n",
    "print(c)\n",
    "\n",
    "print(\"a+b : \",a+b)\n",
    "print(type(a.shape), a.shape)"
   ]
  },
  {
   "cell_type": "code",
   "execution_count": 49,
   "id": "571dfa62",
   "metadata": {},
   "outputs": [
    {
     "name": "stdout",
     "output_type": "stream",
     "text": [
      "list1 :  [1, 2, 3, 4, 5, 6, 7, 8, 9, 0]\n",
      "arr : [1 2 3 4 5 6 7 8 9 0]\n",
      "list2 :  [1, 2, 3, 4, 5, 6, 7, 8, 9, 0]\n",
      "Check initial list and final list are equal or not. : False\n"
     ]
    }
   ],
   "source": [
    "# 39. Write a NumPy program to convert a given list into an array, then again convert it into a list. Check initial list and final list are equal or not.\n",
    "list1 = [1,2,3,4,5,6,7,8,9,0]\n",
    "lst_arr = np.array(list1)\n",
    "arr = lst_arr\n",
    "print(\"list1 : \",list1)\n",
    "print(\"arr :\",arr)\n",
    "\n",
    "list2 = arr.tolist()\n",
    "print(\"list2 : \",list2)\n",
    "print(\"Check initial list and final list are equal or not. :\",list1 is list2)"
   ]
  },
  {
   "cell_type": "code",
   "execution_count": 91,
   "id": "ba526b9a",
   "metadata": {},
   "outputs": [
    {
     "name": "stdout",
     "output_type": "stream",
     "text": [
      "[0.  0.4 0.8 1.2]\n",
      "[0.         0.38941834 0.71735609 0.93203909] (4,)\n"
     ]
    },
    {
     "data": {
      "image/png": "[encoded data removed]",
      "text/plain": [
       "<Figure size 640x480 with 1 Axes>"
      ]
     },
     "metadata": {},
     "output_type": "display_data"
    }
   ],
   "source": [
    "# 40. Write a NumPy program to compute the x and y coordinates for points on a sine curve and plot the points using matplotlib.\n",
    "x = np.arange(0,0.5*np.pi,0.4)\n",
    "y = np.sin(x)\n",
    "print(x)\n",
    "print(y,y.shape)\n",
    "plt.plot(x,y)\n",
    "plt.show()\n"
   ]
  },
  {
   "cell_type": "code",
   "execution_count": 94,
   "id": "415fabe4",
   "metadata": {},
   "outputs": [
    {
     "name": "stdout",
     "output_type": "stream",
     "text": [
      "1.0 <class 'numpy.float16'>\n",
      "1.0 <class 'float'>\n"
     ]
    }
   ],
   "source": [
    "# 40. Write a NumPy program to convert numpy dtypes to native Python types\n",
    "numpy_Data = np.float16(1)\n",
    "print(numpy_Data, type(numpy_Data))\n",
    "\n",
    "py_Native = numpy_Data.item()\n",
    "print(py_Native, type(py_Native))"
   ]
  },
  {
   "cell_type": "code",
   "execution_count": 113,
   "id": "571adfcb",
   "metadata": {},
   "outputs": [
    {
     "name": "stdout",
     "output_type": "stream",
     "text": [
      "[[1 1 0 2]\n",
      " [0 3 0 3]\n",
      " [1 0 4 4]]\n",
      "14\n"
     ]
    }
   ],
   "source": [
    "# 42. Write a NumPy program to add elements to a matrix. If an element in the matrix is 0, we will not add the element below this element.\n",
    "arr = np.array([[1,1,0,2],[0,3,0,3],[1,0,4,4]])\n",
    "sum_Array = 0\n",
    "print(arr)\n",
    "for r in range(len(arr)):\n",
    "               for c in range(len(arr[r])):\n",
    "                            if arr[r][c] == 0 and r < len(arr)-1:\n",
    "                                    arr[r+1][c] = 0 \n",
    "                            else:\n",
    "                                    sum_Array += arr[r][c]\n",
    "            \n",
    "print(sum_Array)"
   ]
  },
  {
   "cell_type": "code",
   "execution_count": 117,
   "id": "257f16b0",
   "metadata": {},
   "outputs": [
    {
     "name": "stdout",
     "output_type": "stream",
     "text": [
      "[[False False  True False]\n",
      " [False False False False]\n",
      " [False  True False  True]]\n",
      "[0 1 1 1]\n"
     ]
    }
   ],
   "source": [
    "# 43. Write a NumPy program to find missing data in a given array\n",
    "nums = np.array([[3, 2, np.nan, 1],\n",
    "                 [10, 12, 10, 9],\n",
    "                 [5, np.nan, 1, np.nan]])\n",
    "\n",
    "missing = sum(np.isnan(nums))\n",
    "nans = np.isnan(nums)\n",
    "print(nans)\n",
    "print(missing)"
   ]
  },
  {
   "cell_type": "code",
   "execution_count": 138,
   "id": "9e3cb636",
   "metadata": {},
   "outputs": [
    {
     "name": "stdout",
     "output_type": "stream",
     "text": [
      "[ True  True  True  True  True  True  True  True  True False]\n",
      "True\n"
     ]
    }
   ],
   "source": [
    "# 44. Write a NumPy program to check whether two arrays are equal (element wise) or not.\n",
    "x = np.array([72, 79, 85, 90, 150, -135, 120, -10, 60, 100])\n",
    "y = np.array([72, 79, 85, 90, 150, -135, 120, -10, 60, 100.001])\n",
    "print(np.equal(x,y))\n",
    "print(np.allclose(x,y))\n"
   ]
  },
  {
   "cell_type": "code",
   "execution_count": 145,
   "id": "2b81775e",
   "metadata": {},
   "outputs": [
    {
     "name": "stdout",
     "output_type": "stream",
     "text": [
      "Single digit = \n",
      " [0 1 2 3 4 5 6 7 8 9]\n",
      "-------------------------------------------------------\n",
      "Two digit = \n",
      " [10 11 12 13 14 15 16 17 18 19 20 21 22 23 24 25 26 27 28 29 30 31 32 33\n",
      " 34 35 36 37 38 39 40 41 42 43 44 45 46 47 48 49 50 51 52 53 54 55 56 57\n",
      " 58 59 60 61 62 63 64 65 66 67 68 69 70 71 72 73 74 75 76 77 78 79 80 81\n",
      " 82 83 84 85 86 87 88 89 90 91 92 93 94 95 96 97 98 99]\n",
      "-------------------------------------------------------\n",
      "Three digit = \n",
      " [100 101 102 103 104 105 106 107 108 109 110 111 112 113 114 115 116 117\n",
      " 118 119 120 121 122 123 124 125 126 127 128 129 130 131 132 133 134 135\n",
      " 136 137 138 139 140 141 142 143 144 145 146 147 148 149 150 151 152 153\n",
      " 154 155 156 157 158 159 160 161 162 163 164 165 166 167 168 169 170 171\n",
      " 172 173 174 175 176 177 178 179 180 181 182 183 184 185 186 187 188 189\n",
      " 190 191 192 193 194 195 196 197 198 199 200 201 202 203 204 205 206 207\n",
      " 208 209 210 211 212 213 214 215 216 217 218 219 220 221 222 223 224 225\n",
      " 226 227 228 229 230 231 232 233 234 235 236 237 238 239 240 241 242 243\n",
      " 244 245 246 247 248 249 250 251 252 253 254 255 256 257 258 259 260 261\n",
      " 262 263 264 265 266 267 268 269 270 271 272 273 274 275 276 277 278 279\n",
      " 280 281 282 283 284 285 286 287 288 289 290 291 292 293 294 295 296 297\n",
      " 298 299 300 301 302 303 304 305 306 307 308 309 310 311 312 313 314 315\n",
      " 316 317 318 319 320 321 322 323 324 325 326 327 328 329 330 331 332 333\n",
      " 334 335 336 337 338 339 340 341 342 343 344 345 346 347 348 349 350 351\n",
      " 352 353 354 355 356 357 358 359 360 361 362 363 364 365 366 367 368 369\n",
      " 370 371 372 373 374 375 376 377 378 379 380 381 382 383 384 385 386 387\n",
      " 388 389 390 391 392 393 394 395 396 397 398 399 400 401 402 403 404 405\n",
      " 406 407 408 409 410 411 412 413 414 415 416 417 418 419 420 421 422 423\n",
      " 424 425 426 427 428 429 430 431 432 433 434 435 436 437 438 439 440 441\n",
      " 442 443 444 445 446 447 448 449 450 451 452 453 454 455 456 457 458 459\n",
      " 460 461 462 463 464 465 466 467 468 469 470 471 472 473 474 475 476 477\n",
      " 478 479 480 481 482 483 484 485 486 487 488 489 490 491 492 493 494 495\n",
      " 496 497 498 499 500 501 502 503 504 505 506 507 508 509 510 511 512 513\n",
      " 514 515 516 517 518 519 520 521 522 523 524 525 526 527 528 529 530 531\n",
      " 532 533 534 535 536 537 538 539 540 541 542 543 544 545 546 547 548 549\n",
      " 550 551 552 553 554 555 556 557 558 559 560 561 562 563 564 565 566 567\n",
      " 568 569 570 571 572 573 574 575 576 577 578 579 580 581 582 583 584 585\n",
      " 586 587 588 589 590 591 592 593 594 595 596 597 598 599 600 601 602 603\n",
      " 604 605 606 607 608 609 610 611 612 613 614 615 616 617 618 619 620 621\n",
      " 622 623 624 625 626 627 628 629 630 631 632 633 634 635 636 637 638 639\n",
      " 640 641 642 643 644 645 646 647 648 649 650 651 652 653 654 655 656 657\n",
      " 658 659 660 661 662 663 664 665 666 667 668 669 670 671 672 673 674 675\n",
      " 676 677 678 679 680 681 682 683 684 685 686 687 688 689 690 691 692 693\n",
      " 694 695 696 697 698 699 700 701 702 703 704 705 706 707 708 709 710 711\n",
      " 712 713 714 715 716 717 718 719 720 721 722 723 724 725 726 727 728 729\n",
      " 730 731 732 733 734 735 736 737 738 739 740 741 742 743 744 745 746 747\n",
      " 748 749 750 751 752 753 754 755 756 757 758 759 760 761 762 763 764 765\n",
      " 766 767 768 769 770 771 772 773 774 775 776 777 778 779 780 781 782 783\n",
      " 784 785 786 787 788 789 790 791 792 793 794 795 796 797 798 799 800 801\n",
      " 802 803 804 805 806 807 808 809 810 811 812 813 814 815 816 817 818 819\n",
      " 820 821 822 823 824 825 826 827 828 829 830 831 832 833 834 835 836 837\n",
      " 838 839 840 841 842 843 844 845 846 847 848 849 850 851 852 853 854 855\n",
      " 856 857 858 859 860 861 862 863 864 865 866 867 868 869 870 871 872 873\n",
      " 874 875 876 877 878 879 880 881 882 883 884 885 886 887 888 889 890 891\n",
      " 892 893 894 895 896 897 898 899 900 901 902 903 904 905 906 907 908 909\n",
      " 910 911 912 913 914 915 916 917 918 919 920 921 922 923 924 925 926 927\n",
      " 928 929 930 931 932 933 934 935 936 937 938 939 940 941 942 943 944 945\n",
      " 946 947 948 949 950 951 952 953 954 955 956 957 958 959 960 961 962 963\n",
      " 964 965 966 967 968 969 970 971 972 973 974 975 976 977 978 979 980 981\n",
      " 982 983 984 985 986 987 988 989 990 991 992 993 994 995 996 997 998 999]\n"
     ]
    }
   ],
   "source": [
    "# 45. Write a NumPy program to create a one-dimensional array of single, two and three-digit numbers.\n",
    "x = np.arange(10)\n",
    "y = np.arange(10,100)\n",
    "z = np.arange(100,1000)\n",
    "print(\"Single digit = \\n\",x)\n",
    "print(\"-------------------------------------------------------\")\n",
    "print(\"Two digit = \\n\",y)\n",
    "print(\"-------------------------------------------------------\")\n",
    "print(\"Three digit = \\n\",z)"
   ]
  },
  {
   "cell_type": "code",
   "execution_count": 153,
   "id": "2d1fde66",
   "metadata": {},
   "outputs": [
    {
     "name": "stdout",
     "output_type": "stream",
     "text": [
      "[[ 0  1  2  3]\n",
      " [ 4  5  6  7]\n",
      " [ 8  9 10 11]\n",
      " [12 13 14 15]]\n",
      "2\n"
     ]
    }
   ],
   "source": [
    "# 46. Write a NumPy program to create a two-dimensional array of a specified format.\n",
    "\n",
    "x = np.arange(16).reshape(4,4)\n",
    "print(x)\n",
    "print(x.ndim)"
   ]
  },
  {
   "cell_type": "code",
   "execution_count": null,
   "id": "c3d78918",
   "metadata": {},
   "outputs": [],
   "source": []
  }
 ],
 "metadata": {
  "kernelspec": {
   "display_name": "Python 3 (ipykernel)",
   "language": "python",
   "name": "python3"
  },
  "language_info": {
   "codemirror_mode": {
    "name": "ipython",
    "version": 3
   },
   "file_extension": ".py",
   "mimetype": "text/x-python",
   "name": "python",
   "nbconvert_exporter": "python",
   "pygments_lexer": "ipython3",
   "version": "3.11.1"
  }
 },
 "nbformat": 4,
 "nbformat_minor": 5
}
